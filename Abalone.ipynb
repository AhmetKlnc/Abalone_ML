{
 "cells": [
  {
   "cell_type": "markdown",
   "id": "a255d1d4-0314-4cfc-a113-10a86fb06512",
   "metadata": {
    "tags": []
   },
   "source": [
    "#### Denizkulağının yaşı(abalone), kabuğun koni boyunca kesilmesi, boyanması ve mikroskopta halka sayısının sayılmasıyla belirlenir. Elimizde olan ölçümler yaşı tahmin etmek için kullanılır."
   ]
  },
  {
   "cell_type": "markdown",
   "id": "d85e4850-813c-4454-93d5-e63af281d78c",
   "metadata": {},
   "source": [
    "##### NOT!! : Denizkulağının yaşı = $rings+1.5$"
   ]
  },
  {
   "cell_type": "raw",
   "id": "b661f9ce-8aa2-4d33-b1c3-db703f7d1e2a",
   "metadata": {},
   "source": [
    "Veri setindeki değişkenler ve özellikleri:\n",
    "\n",
    "Name / Data Type / Measurement Unit / Description\n",
    "\n",
    "Sex            / nominal    / --    / M, F, and I (infant)\n",
    "Length         / continuous / mm    / Longest shell measurement\n",
    "Diameter       / continuous / mm    / perpendicular to length\n",
    "Height         / continuous / mm    / with meat in shell\n",
    "Whole weight   / continuous / grams / whole abalone\n",
    "Shucked weight / continuous / grams / weight of meat\n",
    "Viscera weight / continuous / grams / gut weight (after bleeding)\n",
    "Shell weight   / continuous / grams / after being dried\n",
    "Rings          / integer    / --    / +1.5 gives the age in years"
   ]
  },
  {
   "cell_type": "markdown",
   "id": "809365da-76d7-4461-bcfe-b0132c473237",
   "metadata": {},
   "source": [
    "#### Üzerinde çalışacağımız veriyi çekelim:"
   ]
  },
  {
   "cell_type": "code",
   "execution_count": 1,
   "id": "8f7abae3-3e76-4af9-9e66-24b4d0c85481",
   "metadata": {},
   "outputs": [],
   "source": [
    "import warnings\n",
    "warnings.filterwarnings('ignore')\n",
    "import pandas as pd\n",
    "import numpy as np\n",
    "abalone_data = pd.read_csv(\"https://archive.ics.uci.edu/ml/machine-learning-databases/abalone/abalone.data\", header=None)\n",
    "abalone_data.columns = ['sex', 'length', 'diameter', 'height', 'whole_weight', 'shucked_weight', 'viscera_weight', 'shell_weight', 'rings']\n"
   ]
  },
  {
   "cell_type": "code",
   "execution_count": 2,
   "id": "061463ee-34b1-4345-b7fe-ddcb5f4c6eb0",
   "metadata": {},
   "outputs": [
    {
     "data": {
      "text/html": [
       "<div>\n",
       "<style scoped>\n",
       "    .dataframe tbody tr th:only-of-type {\n",
       "        vertical-align: middle;\n",
       "    }\n",
       "\n",
       "    .dataframe tbody tr th {\n",
       "        vertical-align: top;\n",
       "    }\n",
       "\n",
       "    .dataframe thead th {\n",
       "        text-align: right;\n",
       "    }\n",
       "</style>\n",
       "<table border=\"1\" class=\"dataframe\">\n",
       "  <thead>\n",
       "    <tr style=\"text-align: right;\">\n",
       "      <th></th>\n",
       "      <th>sex</th>\n",
       "      <th>length</th>\n",
       "      <th>diameter</th>\n",
       "      <th>height</th>\n",
       "      <th>whole_weight</th>\n",
       "      <th>shucked_weight</th>\n",
       "      <th>viscera_weight</th>\n",
       "      <th>shell_weight</th>\n",
       "      <th>rings</th>\n",
       "    </tr>\n",
       "  </thead>\n",
       "  <tbody>\n",
       "    <tr>\n",
       "      <th>0</th>\n",
       "      <td>M</td>\n",
       "      <td>0.455</td>\n",
       "      <td>0.365</td>\n",
       "      <td>0.095</td>\n",
       "      <td>0.5140</td>\n",
       "      <td>0.2245</td>\n",
       "      <td>0.1010</td>\n",
       "      <td>0.150</td>\n",
       "      <td>15</td>\n",
       "    </tr>\n",
       "    <tr>\n",
       "      <th>1</th>\n",
       "      <td>M</td>\n",
       "      <td>0.350</td>\n",
       "      <td>0.265</td>\n",
       "      <td>0.090</td>\n",
       "      <td>0.2255</td>\n",
       "      <td>0.0995</td>\n",
       "      <td>0.0485</td>\n",
       "      <td>0.070</td>\n",
       "      <td>7</td>\n",
       "    </tr>\n",
       "    <tr>\n",
       "      <th>2</th>\n",
       "      <td>F</td>\n",
       "      <td>0.530</td>\n",
       "      <td>0.420</td>\n",
       "      <td>0.135</td>\n",
       "      <td>0.6770</td>\n",
       "      <td>0.2565</td>\n",
       "      <td>0.1415</td>\n",
       "      <td>0.210</td>\n",
       "      <td>9</td>\n",
       "    </tr>\n",
       "    <tr>\n",
       "      <th>3</th>\n",
       "      <td>M</td>\n",
       "      <td>0.440</td>\n",
       "      <td>0.365</td>\n",
       "      <td>0.125</td>\n",
       "      <td>0.5160</td>\n",
       "      <td>0.2155</td>\n",
       "      <td>0.1140</td>\n",
       "      <td>0.155</td>\n",
       "      <td>10</td>\n",
       "    </tr>\n",
       "    <tr>\n",
       "      <th>4</th>\n",
       "      <td>I</td>\n",
       "      <td>0.330</td>\n",
       "      <td>0.255</td>\n",
       "      <td>0.080</td>\n",
       "      <td>0.2050</td>\n",
       "      <td>0.0895</td>\n",
       "      <td>0.0395</td>\n",
       "      <td>0.055</td>\n",
       "      <td>7</td>\n",
       "    </tr>\n",
       "  </tbody>\n",
       "</table>\n",
       "</div>"
      ],
      "text/plain": [
       "  sex  length  diameter  height  whole_weight  shucked_weight  viscera_weight  \\\n",
       "0   M   0.455     0.365   0.095        0.5140          0.2245          0.1010   \n",
       "1   M   0.350     0.265   0.090        0.2255          0.0995          0.0485   \n",
       "2   F   0.530     0.420   0.135        0.6770          0.2565          0.1415   \n",
       "3   M   0.440     0.365   0.125        0.5160          0.2155          0.1140   \n",
       "4   I   0.330     0.255   0.080        0.2050          0.0895          0.0395   \n",
       "\n",
       "   shell_weight  rings  \n",
       "0         0.150     15  \n",
       "1         0.070      7  \n",
       "2         0.210      9  \n",
       "3         0.155     10  \n",
       "4         0.055      7  "
      ]
     },
     "execution_count": 2,
     "metadata": {},
     "output_type": "execute_result"
    }
   ],
   "source": [
    "abalone_data.head()"
   ]
  },
  {
   "cell_type": "code",
   "execution_count": 3,
   "id": "2f41fabb-e21f-4247-bebb-6c8a646e2ed7",
   "metadata": {},
   "outputs": [
    {
     "data": {
      "text/plain": [
       "sex                object\n",
       "length            float64\n",
       "diameter          float64\n",
       "height            float64\n",
       "whole_weight      float64\n",
       "shucked_weight    float64\n",
       "viscera_weight    float64\n",
       "shell_weight      float64\n",
       "rings               int64\n",
       "dtype: object"
      ]
     },
     "execution_count": 3,
     "metadata": {},
     "output_type": "execute_result"
    }
   ],
   "source": [
    "abalone_data.dtypes"
   ]
  },
  {
   "cell_type": "code",
   "execution_count": 4,
   "id": "35b6954d-445a-4b47-9f07-66d6a210021d",
   "metadata": {},
   "outputs": [
    {
     "data": {
      "text/plain": [
       "length            float64\n",
       "diameter          float64\n",
       "height            float64\n",
       "whole_weight      float64\n",
       "shucked_weight    float64\n",
       "viscera_weight    float64\n",
       "shell_weight      float64\n",
       "rings               int64\n",
       "sex_F               uint8\n",
       "sex_I               uint8\n",
       "sex_M               uint8\n",
       "dtype: object"
      ]
     },
     "execution_count": 4,
     "metadata": {},
     "output_type": "execute_result"
    }
   ],
   "source": [
    "# Verimizde bulunan sex değişkeni kategorik bir değişken olduğu için bunu sayısal bir değişken olarak güncelliyoruz.\n",
    "abalone_data = pd.get_dummies(abalone_data, columns=[\"sex\"])\n",
    "abalone_data.dtypes"
   ]
  },
  {
   "cell_type": "code",
   "execution_count": 5,
   "id": "eca07723-a329-4186-8944-99f50b820322",
   "metadata": {},
   "outputs": [
    {
     "data": {
      "text/html": [
       "<div>\n",
       "<style scoped>\n",
       "    .dataframe tbody tr th:only-of-type {\n",
       "        vertical-align: middle;\n",
       "    }\n",
       "\n",
       "    .dataframe tbody tr th {\n",
       "        vertical-align: top;\n",
       "    }\n",
       "\n",
       "    .dataframe thead th {\n",
       "        text-align: right;\n",
       "    }\n",
       "</style>\n",
       "<table border=\"1\" class=\"dataframe\">\n",
       "  <thead>\n",
       "    <tr style=\"text-align: right;\">\n",
       "      <th></th>\n",
       "      <th>length</th>\n",
       "      <th>diameter</th>\n",
       "      <th>height</th>\n",
       "      <th>whole_weight</th>\n",
       "      <th>shucked_weight</th>\n",
       "      <th>viscera_weight</th>\n",
       "      <th>shell_weight</th>\n",
       "      <th>rings</th>\n",
       "      <th>sex_F</th>\n",
       "      <th>sex_I</th>\n",
       "      <th>sex_M</th>\n",
       "    </tr>\n",
       "  </thead>\n",
       "  <tbody>\n",
       "    <tr>\n",
       "      <th>0</th>\n",
       "      <td>0.455</td>\n",
       "      <td>0.365</td>\n",
       "      <td>0.095</td>\n",
       "      <td>0.5140</td>\n",
       "      <td>0.2245</td>\n",
       "      <td>0.1010</td>\n",
       "      <td>0.150</td>\n",
       "      <td>15</td>\n",
       "      <td>0</td>\n",
       "      <td>0</td>\n",
       "      <td>1</td>\n",
       "    </tr>\n",
       "    <tr>\n",
       "      <th>1</th>\n",
       "      <td>0.350</td>\n",
       "      <td>0.265</td>\n",
       "      <td>0.090</td>\n",
       "      <td>0.2255</td>\n",
       "      <td>0.0995</td>\n",
       "      <td>0.0485</td>\n",
       "      <td>0.070</td>\n",
       "      <td>7</td>\n",
       "      <td>0</td>\n",
       "      <td>0</td>\n",
       "      <td>1</td>\n",
       "    </tr>\n",
       "    <tr>\n",
       "      <th>2</th>\n",
       "      <td>0.530</td>\n",
       "      <td>0.420</td>\n",
       "      <td>0.135</td>\n",
       "      <td>0.6770</td>\n",
       "      <td>0.2565</td>\n",
       "      <td>0.1415</td>\n",
       "      <td>0.210</td>\n",
       "      <td>9</td>\n",
       "      <td>1</td>\n",
       "      <td>0</td>\n",
       "      <td>0</td>\n",
       "    </tr>\n",
       "    <tr>\n",
       "      <th>3</th>\n",
       "      <td>0.440</td>\n",
       "      <td>0.365</td>\n",
       "      <td>0.125</td>\n",
       "      <td>0.5160</td>\n",
       "      <td>0.2155</td>\n",
       "      <td>0.1140</td>\n",
       "      <td>0.155</td>\n",
       "      <td>10</td>\n",
       "      <td>0</td>\n",
       "      <td>0</td>\n",
       "      <td>1</td>\n",
       "    </tr>\n",
       "    <tr>\n",
       "      <th>4</th>\n",
       "      <td>0.330</td>\n",
       "      <td>0.255</td>\n",
       "      <td>0.080</td>\n",
       "      <td>0.2050</td>\n",
       "      <td>0.0895</td>\n",
       "      <td>0.0395</td>\n",
       "      <td>0.055</td>\n",
       "      <td>7</td>\n",
       "      <td>0</td>\n",
       "      <td>1</td>\n",
       "      <td>0</td>\n",
       "    </tr>\n",
       "  </tbody>\n",
       "</table>\n",
       "</div>"
      ],
      "text/plain": [
       "   length  diameter  height  whole_weight  shucked_weight  viscera_weight  \\\n",
       "0   0.455     0.365   0.095        0.5140          0.2245          0.1010   \n",
       "1   0.350     0.265   0.090        0.2255          0.0995          0.0485   \n",
       "2   0.530     0.420   0.135        0.6770          0.2565          0.1415   \n",
       "3   0.440     0.365   0.125        0.5160          0.2155          0.1140   \n",
       "4   0.330     0.255   0.080        0.2050          0.0895          0.0395   \n",
       "\n",
       "   shell_weight  rings  sex_F  sex_I  sex_M  \n",
       "0         0.150     15      0      0      1  \n",
       "1         0.070      7      0      0      1  \n",
       "2         0.210      9      1      0      0  \n",
       "3         0.155     10      0      0      1  \n",
       "4         0.055      7      0      1      0  "
      ]
     },
     "execution_count": 5,
     "metadata": {},
     "output_type": "execute_result"
    }
   ],
   "source": [
    "abalone_data.head()"
   ]
  },
  {
   "cell_type": "code",
   "execution_count": 6,
   "id": "80f3f244-b552-4060-b010-af2975199782",
   "metadata": {},
   "outputs": [
    {
     "data": {
      "text/html": [
       "<div>\n",
       "<style scoped>\n",
       "    .dataframe tbody tr th:only-of-type {\n",
       "        vertical-align: middle;\n",
       "    }\n",
       "\n",
       "    .dataframe tbody tr th {\n",
       "        vertical-align: top;\n",
       "    }\n",
       "\n",
       "    .dataframe thead th {\n",
       "        text-align: right;\n",
       "    }\n",
       "</style>\n",
       "<table border=\"1\" class=\"dataframe\">\n",
       "  <thead>\n",
       "    <tr style=\"text-align: right;\">\n",
       "      <th></th>\n",
       "      <th>count</th>\n",
       "      <th>mean</th>\n",
       "      <th>std</th>\n",
       "      <th>min</th>\n",
       "      <th>25%</th>\n",
       "      <th>50%</th>\n",
       "      <th>75%</th>\n",
       "      <th>max</th>\n",
       "    </tr>\n",
       "  </thead>\n",
       "  <tbody>\n",
       "    <tr>\n",
       "      <th>length</th>\n",
       "      <td>4177.0</td>\n",
       "      <td>0.523992</td>\n",
       "      <td>0.120093</td>\n",
       "      <td>0.0750</td>\n",
       "      <td>0.4500</td>\n",
       "      <td>0.5450</td>\n",
       "      <td>0.615</td>\n",
       "      <td>0.8150</td>\n",
       "    </tr>\n",
       "    <tr>\n",
       "      <th>diameter</th>\n",
       "      <td>4177.0</td>\n",
       "      <td>0.407881</td>\n",
       "      <td>0.099240</td>\n",
       "      <td>0.0550</td>\n",
       "      <td>0.3500</td>\n",
       "      <td>0.4250</td>\n",
       "      <td>0.480</td>\n",
       "      <td>0.6500</td>\n",
       "    </tr>\n",
       "    <tr>\n",
       "      <th>height</th>\n",
       "      <td>4177.0</td>\n",
       "      <td>0.139516</td>\n",
       "      <td>0.041827</td>\n",
       "      <td>0.0000</td>\n",
       "      <td>0.1150</td>\n",
       "      <td>0.1400</td>\n",
       "      <td>0.165</td>\n",
       "      <td>1.1300</td>\n",
       "    </tr>\n",
       "    <tr>\n",
       "      <th>whole_weight</th>\n",
       "      <td>4177.0</td>\n",
       "      <td>0.828742</td>\n",
       "      <td>0.490389</td>\n",
       "      <td>0.0020</td>\n",
       "      <td>0.4415</td>\n",
       "      <td>0.7995</td>\n",
       "      <td>1.153</td>\n",
       "      <td>2.8255</td>\n",
       "    </tr>\n",
       "    <tr>\n",
       "      <th>shucked_weight</th>\n",
       "      <td>4177.0</td>\n",
       "      <td>0.359367</td>\n",
       "      <td>0.221963</td>\n",
       "      <td>0.0010</td>\n",
       "      <td>0.1860</td>\n",
       "      <td>0.3360</td>\n",
       "      <td>0.502</td>\n",
       "      <td>1.4880</td>\n",
       "    </tr>\n",
       "    <tr>\n",
       "      <th>viscera_weight</th>\n",
       "      <td>4177.0</td>\n",
       "      <td>0.180594</td>\n",
       "      <td>0.109614</td>\n",
       "      <td>0.0005</td>\n",
       "      <td>0.0935</td>\n",
       "      <td>0.1710</td>\n",
       "      <td>0.253</td>\n",
       "      <td>0.7600</td>\n",
       "    </tr>\n",
       "    <tr>\n",
       "      <th>shell_weight</th>\n",
       "      <td>4177.0</td>\n",
       "      <td>0.238831</td>\n",
       "      <td>0.139203</td>\n",
       "      <td>0.0015</td>\n",
       "      <td>0.1300</td>\n",
       "      <td>0.2340</td>\n",
       "      <td>0.329</td>\n",
       "      <td>1.0050</td>\n",
       "    </tr>\n",
       "    <tr>\n",
       "      <th>rings</th>\n",
       "      <td>4177.0</td>\n",
       "      <td>9.933684</td>\n",
       "      <td>3.224169</td>\n",
       "      <td>1.0000</td>\n",
       "      <td>8.0000</td>\n",
       "      <td>9.0000</td>\n",
       "      <td>11.000</td>\n",
       "      <td>29.0000</td>\n",
       "    </tr>\n",
       "    <tr>\n",
       "      <th>sex_F</th>\n",
       "      <td>4177.0</td>\n",
       "      <td>0.312904</td>\n",
       "      <td>0.463731</td>\n",
       "      <td>0.0000</td>\n",
       "      <td>0.0000</td>\n",
       "      <td>0.0000</td>\n",
       "      <td>1.000</td>\n",
       "      <td>1.0000</td>\n",
       "    </tr>\n",
       "    <tr>\n",
       "      <th>sex_I</th>\n",
       "      <td>4177.0</td>\n",
       "      <td>0.321283</td>\n",
       "      <td>0.467025</td>\n",
       "      <td>0.0000</td>\n",
       "      <td>0.0000</td>\n",
       "      <td>0.0000</td>\n",
       "      <td>1.000</td>\n",
       "      <td>1.0000</td>\n",
       "    </tr>\n",
       "    <tr>\n",
       "      <th>sex_M</th>\n",
       "      <td>4177.0</td>\n",
       "      <td>0.365813</td>\n",
       "      <td>0.481715</td>\n",
       "      <td>0.0000</td>\n",
       "      <td>0.0000</td>\n",
       "      <td>0.0000</td>\n",
       "      <td>1.000</td>\n",
       "      <td>1.0000</td>\n",
       "    </tr>\n",
       "  </tbody>\n",
       "</table>\n",
       "</div>"
      ],
      "text/plain": [
       "                 count      mean       std     min     25%     50%     75%  \\\n",
       "length          4177.0  0.523992  0.120093  0.0750  0.4500  0.5450   0.615   \n",
       "diameter        4177.0  0.407881  0.099240  0.0550  0.3500  0.4250   0.480   \n",
       "height          4177.0  0.139516  0.041827  0.0000  0.1150  0.1400   0.165   \n",
       "whole_weight    4177.0  0.828742  0.490389  0.0020  0.4415  0.7995   1.153   \n",
       "shucked_weight  4177.0  0.359367  0.221963  0.0010  0.1860  0.3360   0.502   \n",
       "viscera_weight  4177.0  0.180594  0.109614  0.0005  0.0935  0.1710   0.253   \n",
       "shell_weight    4177.0  0.238831  0.139203  0.0015  0.1300  0.2340   0.329   \n",
       "rings           4177.0  9.933684  3.224169  1.0000  8.0000  9.0000  11.000   \n",
       "sex_F           4177.0  0.312904  0.463731  0.0000  0.0000  0.0000   1.000   \n",
       "sex_I           4177.0  0.321283  0.467025  0.0000  0.0000  0.0000   1.000   \n",
       "sex_M           4177.0  0.365813  0.481715  0.0000  0.0000  0.0000   1.000   \n",
       "\n",
       "                    max  \n",
       "length           0.8150  \n",
       "diameter         0.6500  \n",
       "height           1.1300  \n",
       "whole_weight     2.8255  \n",
       "shucked_weight   1.4880  \n",
       "viscera_weight   0.7600  \n",
       "shell_weight     1.0050  \n",
       "rings           29.0000  \n",
       "sex_F            1.0000  \n",
       "sex_I            1.0000  \n",
       "sex_M            1.0000  "
      ]
     },
     "execution_count": 6,
     "metadata": {},
     "output_type": "execute_result"
    }
   ],
   "source": [
    "abalone_data.describe().T"
   ]
  },
  {
   "cell_type": "code",
   "execution_count": 7,
   "id": "d9454d91-77ef-4fe1-9dec-03bc4a888dfb",
   "metadata": {},
   "outputs": [
    {
     "data": {
      "text/plain": [
       "length            0\n",
       "diameter          0\n",
       "height            0\n",
       "whole_weight      0\n",
       "shucked_weight    0\n",
       "viscera_weight    0\n",
       "shell_weight      0\n",
       "rings             0\n",
       "sex_F             0\n",
       "sex_I             0\n",
       "sex_M             0\n",
       "dtype: int64"
      ]
     },
     "execution_count": 7,
     "metadata": {},
     "output_type": "execute_result"
    }
   ],
   "source": [
    "# veride eksik gözlem var mı diye kontrol edelim:\n",
    "abalone_data.isnull().sum()"
   ]
  },
  {
   "cell_type": "code",
   "execution_count": 8,
   "id": "7e130ddc-8b56-49b7-bf61-ff746846d506",
   "metadata": {},
   "outputs": [
    {
     "data": {
      "text/plain": [
       "<AxesSubplot: >"
      ]
     },
     "execution_count": 8,
     "metadata": {},
     "output_type": "execute_result"
    },
    {
     "data": {
      "image/png": "[encoded data removed]",
      "text/plain": [
       "<Figure size 640x480 with 2 Axes>"
      ]
     },
     "metadata": {},
     "output_type": "display_data"
    }
   ],
   "source": [
    "# Aralarındaki ilişkiyi kontrol edelim;\n",
    "import seaborn as sbn\n",
    "sbn.heatmap(abalone_data.corr(),annot = True)\n"
   ]
  },
  {
   "cell_type": "code",
   "execution_count": null,
   "id": "e2e1a562-1096-4cdf-84dc-68f73cba225f",
   "metadata": {},
   "outputs": [],
   "source": []
  },
  {
   "cell_type": "markdown",
   "id": "1f691ba7-542b-401b-9879-1e481f3d73cf",
   "metadata": {},
   "source": [
    "Korelasyon matrisi incelendiğinde bağımlı değişken (rings) ile bağımsız değişkenler arasındaki ilşikilerin çoğu pozitif yönlü görünüyor.\n",
    " \n",
    " \n",
    " Matris incelendiğinde bağımsız değişkenler arasında ilişki olduğu görülmektedir. En çokta length ve diameter arasındaki yüksek oranda ilişkiyi görebiliyoruz\n",
    " \n",
    " Bu da bize multicolinerty (çoklu bağlantı sorunu) sorunu olabileceğini söyler.\n"
   ]
  },
  {
   "cell_type": "markdown",
   "id": "c21e5c51-113b-47e5-972f-9e1eff92eac1",
   "metadata": {},
   "source": [
    "#### ---- Aykırı değerleri çıkarma"
   ]
  },
  {
   "cell_type": "code",
   "execution_count": 9,
   "id": "2954ddd0-17f1-414c-afb3-093c70de0b97",
   "metadata": {},
   "outputs": [],
   "source": [
    "# Z-skoru yöntemi ile aykırı değerleri belirlemek için\n",
    "from scipy import stats\n",
    "z_scores = stats.zscore(abalone_data.iloc[:, 1:]) # Sayısal değişkenler için z-skorlarını hesaplamak için\n",
    "outliers = (z_scores < -3) | (z_scores > 3) # Z-skoru -3'ten küçük veya 3'ten büyük olan değerleri bulmak için\n",
    "outlier_rows = outliers.any(axis=1) # Herhangi bir sütunda aykırı değer olan satırları bulmak için\n",
    "\n",
    "# Aykırı değerleri silmek veya değiştirmek için\n",
    "# Seçenek 1: Aykırı değerleri silmek için\n",
    "abalone_data = abalone_data[~outlier_rows] # Aykırı değer olmayan satırları seçmek için\n"
   ]
  },
  {
   "cell_type": "markdown",
   "id": "47a902b6-c71a-41c4-a480-c02ebf4d9287",
   "metadata": {},
   "source": [
    "### Model oluşturma:"
   ]
  },
  {
   "cell_type": "code",
   "execution_count": 10,
   "id": "098dc605-fde0-42ff-8aef-775756e1534f",
   "metadata": {},
   "outputs": [],
   "source": [
    "from sklearn.model_selection import train_test_split\n",
    "random_state = 32\n",
    "x = abalone_data.drop(\"rings\", axis = 1) # bağımsız değişkenlerin seçimi\n",
    "y = abalone_data[\"rings\"] # bağımlı değişkenin seçimi\n",
    "x_egitim, x_test, y_egitim, y_test = train_test_split(x, y, test_size = 0.2, random_state = 32) "
   ]
  },
  {
   "cell_type": "code",
   "execution_count": 11,
   "id": "f37cb36f-cbba-4ca3-b9f6-27f92adcccdf",
   "metadata": {},
   "outputs": [
    {
     "data": {
      "text/plain": [
       "(3224, 10)"
      ]
     },
     "execution_count": 11,
     "metadata": {},
     "output_type": "execute_result"
    }
   ],
   "source": [
    "x_egitim.shape"
   ]
  },
  {
   "cell_type": "code",
   "execution_count": 12,
   "id": "f7c08c18-44bf-41e0-ab69-b51b79865ad0",
   "metadata": {},
   "outputs": [
    {
     "data": {
      "text/plain": [
       "(807, 10)"
      ]
     },
     "execution_count": 12,
     "metadata": {},
     "output_type": "execute_result"
    }
   ],
   "source": [
    "x_test.shape"
   ]
  },
  {
   "cell_type": "markdown",
   "id": "bfa089b2-3253-41b7-961d-635c4d20f966",
   "metadata": {},
   "source": [
    "#### ----  Çoklu Doğrusal regresyon modeli ;"
   ]
  },
  {
   "cell_type": "code",
   "execution_count": 13,
   "id": "3756330e-5771-4639-baa7-42fbcbd43df3",
   "metadata": {},
   "outputs": [
    {
     "data": {
      "text/html": [
       "<table class=\"simpletable\">\n",
       "<caption>OLS Regression Results</caption>\n",
       "<tr>\n",
       "  <th>Dep. Variable:</th>          <td>rings</td>      <th>  R-squared:         </th> <td>   0.532</td> \n",
       "</tr>\n",
       "<tr>\n",
       "  <th>Model:</th>                   <td>OLS</td>       <th>  Adj. R-squared:    </th> <td>   0.531</td> \n",
       "</tr>\n",
       "<tr>\n",
       "  <th>Method:</th>             <td>Least Squares</td>  <th>  F-statistic:       </th> <td>   406.6</td> \n",
       "</tr>\n",
       "<tr>\n",
       "  <th>Date:</th>             <td>Wed, 06 Dec 2023</td> <th>  Prob (F-statistic):</th>  <td>  0.00</td>  \n",
       "</tr>\n",
       "<tr>\n",
       "  <th>Time:</th>                 <td>15:37:53</td>     <th>  Log-Likelihood:    </th> <td> -6770.3</td> \n",
       "</tr>\n",
       "<tr>\n",
       "  <th>No. Observations:</th>      <td>  3224</td>      <th>  AIC:               </th> <td>1.356e+04</td>\n",
       "</tr>\n",
       "<tr>\n",
       "  <th>Df Residuals:</th>          <td>  3214</td>      <th>  BIC:               </th> <td>1.362e+04</td>\n",
       "</tr>\n",
       "<tr>\n",
       "  <th>Df Model:</th>              <td>     9</td>      <th>                     </th>     <td> </td>    \n",
       "</tr>\n",
       "<tr>\n",
       "  <th>Covariance Type:</th>      <td>nonrobust</td>    <th>                     </th>     <td> </td>    \n",
       "</tr>\n",
       "</table>\n",
       "<table class=\"simpletable\">\n",
       "<tr>\n",
       "         <td></td>           <th>coef</th>     <th>std err</th>      <th>t</th>      <th>P>|t|</th>  <th>[0.025</th>    <th>0.975]</th>  \n",
       "</tr>\n",
       "<tr>\n",
       "  <th>length</th>         <td>    1.0577</td> <td>    1.866</td> <td>    0.567</td> <td> 0.571</td> <td>   -2.601</td> <td>    4.716</td>\n",
       "</tr>\n",
       "<tr>\n",
       "  <th>diameter</th>       <td>    8.2463</td> <td>    2.334</td> <td>    3.532</td> <td> 0.000</td> <td>    3.669</td> <td>   12.824</td>\n",
       "</tr>\n",
       "<tr>\n",
       "  <th>height</th>         <td>   18.8038</td> <td>    2.455</td> <td>    7.660</td> <td> 0.000</td> <td>   13.991</td> <td>   23.617</td>\n",
       "</tr>\n",
       "<tr>\n",
       "  <th>whole_weight</th>   <td>    7.3161</td> <td>    0.805</td> <td>    9.086</td> <td> 0.000</td> <td>    5.737</td> <td>    8.895</td>\n",
       "</tr>\n",
       "<tr>\n",
       "  <th>shucked_weight</th> <td>  -17.9056</td> <td>    0.909</td> <td>  -19.694</td> <td> 0.000</td> <td>  -19.688</td> <td>  -16.123</td>\n",
       "</tr>\n",
       "<tr>\n",
       "  <th>viscera_weight</th> <td>   -8.0338</td> <td>    1.422</td> <td>   -5.649</td> <td> 0.000</td> <td>  -10.822</td> <td>   -5.245</td>\n",
       "</tr>\n",
       "<tr>\n",
       "  <th>shell_weight</th>   <td>    7.9073</td> <td>    1.335</td> <td>    5.923</td> <td> 0.000</td> <td>    5.290</td> <td>   10.525</td>\n",
       "</tr>\n",
       "<tr>\n",
       "  <th>sex_F</th>          <td>    3.4820</td> <td>    0.324</td> <td>   10.738</td> <td> 0.000</td> <td>    2.846</td> <td>    4.118</td>\n",
       "</tr>\n",
       "<tr>\n",
       "  <th>sex_I</th>          <td>    2.6878</td> <td>    0.302</td> <td>    8.898</td> <td> 0.000</td> <td>    2.096</td> <td>    3.280</td>\n",
       "</tr>\n",
       "<tr>\n",
       "  <th>sex_M</th>          <td>    3.5062</td> <td>    0.317</td> <td>   11.050</td> <td> 0.000</td> <td>    2.884</td> <td>    4.128</td>\n",
       "</tr>\n",
       "</table>\n",
       "<table class=\"simpletable\">\n",
       "<tr>\n",
       "  <th>Omnibus:</th>       <td>547.693</td> <th>  Durbin-Watson:     </th> <td>   2.001</td> \n",
       "</tr>\n",
       "<tr>\n",
       "  <th>Prob(Omnibus):</th> <td> 0.000</td>  <th>  Jarque-Bera (JB):  </th> <td>1046.840</td> \n",
       "</tr>\n",
       "<tr>\n",
       "  <th>Skew:</th>          <td> 1.041</td>  <th>  Prob(JB):          </th> <td>4.80e-228</td>\n",
       "</tr>\n",
       "<tr>\n",
       "  <th>Kurtosis:</th>      <td> 4.861</td>  <th>  Cond. No.          </th> <td>    114.</td> \n",
       "</tr>\n",
       "</table><br/><br/>Notes:<br/>[1] Standard Errors assume that the covariance matrix of the errors is correctly specified."
      ],
      "text/plain": [
       "<class 'statsmodels.iolib.summary.Summary'>\n",
       "\"\"\"\n",
       "                            OLS Regression Results                            \n",
       "==============================================================================\n",
       "Dep. Variable:                  rings   R-squared:                       0.532\n",
       "Model:                            OLS   Adj. R-squared:                  0.531\n",
       "Method:                 Least Squares   F-statistic:                     406.6\n",
       "Date:                Wed, 06 Dec 2023   Prob (F-statistic):               0.00\n",
       "Time:                        15:37:53   Log-Likelihood:                -6770.3\n",
       "No. Observations:                3224   AIC:                         1.356e+04\n",
       "Df Residuals:                    3214   BIC:                         1.362e+04\n",
       "Df Model:                           9                                         \n",
       "Covariance Type:            nonrobust                                         \n",
       "==================================================================================\n",
       "                     coef    std err          t      P>|t|      [0.025      0.975]\n",
       "----------------------------------------------------------------------------------\n",
       "length             1.0577      1.866      0.567      0.571      -2.601       4.716\n",
       "diameter           8.2463      2.334      3.532      0.000       3.669      12.824\n",
       "height            18.8038      2.455      7.660      0.000      13.991      23.617\n",
       "whole_weight       7.3161      0.805      9.086      0.000       5.737       8.895\n",
       "shucked_weight   -17.9056      0.909    -19.694      0.000     -19.688     -16.123\n",
       "viscera_weight    -8.0338      1.422     -5.649      0.000     -10.822      -5.245\n",
       "shell_weight       7.9073      1.335      5.923      0.000       5.290      10.525\n",
       "sex_F              3.4820      0.324     10.738      0.000       2.846       4.118\n",
       "sex_I              2.6878      0.302      8.898      0.000       2.096       3.280\n",
       "sex_M              3.5062      0.317     11.050      0.000       2.884       4.128\n",
       "==============================================================================\n",
       "Omnibus:                      547.693   Durbin-Watson:                   2.001\n",
       "Prob(Omnibus):                  0.000   Jarque-Bera (JB):             1046.840\n",
       "Skew:                           1.041   Prob(JB):                    4.80e-228\n",
       "Kurtosis:                       4.861   Cond. No.                         114.\n",
       "==============================================================================\n",
       "\n",
       "Notes:\n",
       "[1] Standard Errors assume that the covariance matrix of the errors is correctly specified.\n",
       "\"\"\""
      ]
     },
     "execution_count": 13,
     "metadata": {},
     "output_type": "execute_result"
    }
   ],
   "source": [
    "import statsmodels.api as sm\n",
    "model = sm.OLS(y_egitim, x_egitim)\n",
    "mod = model.fit()\n",
    "mod.summary()"
   ]
  },
  {
   "cell_type": "markdown",
   "id": "404583d9-b426-4985-9c4b-32305170e5d7",
   "metadata": {},
   "source": [
    "##### Test istatistiklerinin length hariç tüm değişkenleri anlamlı olarak gösterdiğini görebiliriz.\n",
    "##### adj R2 nin 0.552 olduğunu görüyoruz ve bu isteyeceğimiz bir değer değil, 1 e ne kadar yakın olursa o kadar iyi\n"
   ]
  },
  {
   "cell_type": "code",
   "execution_count": 14,
   "id": "c6216f49-1d43-41c7-8860-a5db24352a95",
   "metadata": {},
   "outputs": [],
   "source": [
    "# Lazım olabilecek metrikler\n",
    "from sklearn.metrics import mean_absolute_percentage_error, mean_squared_error, r2_score\n",
    "# aic\n",
    "from math import log\n",
    "def AIC(n, mse, p):\n",
    "    params = len(p.coef_) + 1\n",
    "    aic = n * log(mse) + 2 * params\n",
    "    return aic\n",
    "\n"
   ]
  },
  {
   "cell_type": "code",
   "execution_count": 15,
   "id": "3bec8e8f-d36b-4c10-85e2-d91002a67108",
   "metadata": {},
   "outputs": [
    {
     "data": {
      "text/plain": [
       "(3.9042546710181028, 0.5324156977696373)"
      ]
     },
     "execution_count": 15,
     "metadata": {},
     "output_type": "execute_result"
    }
   ],
   "source": [
    "from sklearn.linear_model import LinearRegression\n",
    "lr_model = LinearRegression().fit(x_egitim, y_egitim)\n",
    "lr_fit = lr_model.predict(x_egitim)\n",
    "mean_squared_error(y_egitim, lr_fit), r2_score(y_egitim, lr_fit)\n"
   ]
  },
  {
   "cell_type": "code",
   "execution_count": 16,
   "id": "400ef27e-0f3c-460f-b15d-b71676d60ff6",
   "metadata": {},
   "outputs": [
    {
     "name": "stdout",
     "output_type": "stream",
     "text": [
      "MSE: 3.8504619155582773  R2: 0.5010858301737653  MAPE: 0.15342191158111668  AIC: 1109.991847170178\n"
     ]
    }
   ],
   "source": [
    "lr_pred = lr_model.predict(x_test)\n",
    "print(\"MSE:\",mean_squared_error(y_test, lr_pred), \" R2:\", r2_score(y_test, lr_pred), \" MAPE:\", mean_absolute_percentage_error(y_test, lr_pred), \" AIC:\", AIC(len(lr_pred), mean_squared_error(y_test, lr_pred), lr_model))"
   ]
  },
  {
   "cell_type": "code",
   "execution_count": 17,
   "id": "bc98d85c-2b7c-4bad-b8d4-3ab21fa584f0",
   "metadata": {},
   "outputs": [
    {
     "data": {
      "text/plain": [
       "<AxesSubplot: xlabel='rings'>"
      ]
     },
     "execution_count": 17,
     "metadata": {},
     "output_type": "execute_result"
    },
    {
     "data": {
      "image/png": "[encoded data removed]",
      "text/plain": [
       "<Figure size 640x480 with 1 Axes>"
      ]
     },
     "metadata": {},
     "output_type": "display_data"
    }
   ],
   "source": [
    "import seaborn as sbn\n",
    "sbn.regplot(x = y_test, y = lr_pred)"
   ]
  },
  {
   "cell_type": "code",
   "execution_count": 18,
   "id": "7adbeafe-f8d2-42e8-977a-180ba238891b",
   "metadata": {},
   "outputs": [
    {
     "data": {
      "image/png": "[encoded data removed]",
      "text/plain": [
       "<Figure size 640x480 with 1 Axes>"
      ]
     },
     "metadata": {},
     "output_type": "display_data"
    }
   ],
   "source": [
    "import statsmodels.api as sm\n",
    "import matplotlib.pyplot as plt\n",
    "residuals = y_test - lr_pred\n",
    "sm.qqplot(residuals, line=\"s\") \n",
    "plt.show()\n",
    "#QQ plot’tan görüldüğü gibi artıkların dağılımı uç tarafta normal dağılıma yakın değildir."
   ]
  },
  {
   "cell_type": "markdown",
   "id": "a5c575f2-f62e-4f18-ad34-94ecac355b1a",
   "metadata": {},
   "source": [
    "#### ----  Temel Bileşenler Regresyonu (PCR) modeli ;"
   ]
  },
  {
   "cell_type": "code",
   "execution_count": 19,
   "id": "27dab87c-6a6c-4c3c-9f3c-91021e945f3b",
   "metadata": {},
   "outputs": [],
   "source": [
    "from sklearn.preprocessing import scale\n",
    "from sklearn.decomposition import PCA\n",
    "from sklearn import model_selection\n",
    "from sklearn.model_selection import RepeatedStratifiedKFold"
   ]
  },
  {
   "cell_type": "code",
   "execution_count": 20,
   "id": "4626d8ce-9b20-497b-b848-5589eaa5941a",
   "metadata": {},
   "outputs": [
    {
     "name": "stdout",
     "output_type": "stream",
     "text": [
      "MSE: 4.058865294269251  R2: 0.4740824729250045  MAPE: 0.15794974882395194  AIC: 1142.5290844570852\n"
     ]
    }
   ],
   "source": [
    "pca = PCA(n_components=5)\n",
    "x_egitim_pca = pca.fit_transform(x_egitim)\n",
    "pca_model = LinearRegression().fit(x_egitim_pca, y_egitim)\n",
    "x_test_pca = pca.transform(x_test)\n",
    "pca_pred = pca_model.predict(x_test_pca)\n",
    "print(\"MSE:\",mean_squared_error(y_test, pca_pred),\" R2:\", r2_score(y_test, pca_pred),\n",
    "      \" MAPE:\", mean_absolute_percentage_error(y_test, pca_pred), \" AIC:\",AIC(len(pca_pred), mean_squared_error(y_test, pca_pred), pca_model))\n"
   ]
  },
  {
   "cell_type": "raw",
   "id": "5584a79c-7dd2-46ec-903e-6abbd98eb338",
   "metadata": {},
   "source": [
    "pca_model'in metriclerine baktığımızda lr_model e göre kötü olduğunu gözlemleyebiliriz."
   ]
  },
  {
   "cell_type": "markdown",
   "id": "afe15f0a-61bf-41f4-b3be-fd89ce63f316",
   "metadata": {},
   "source": [
    "#### ----  Kısmi En Küçük Kareler regresyonu (PLS) modeli ;"
   ]
  },
  {
   "cell_type": "code",
   "execution_count": 21,
   "id": "66c6a22c-e98c-46af-88a0-a8d0b9135446",
   "metadata": {},
   "outputs": [
    {
     "data": {
      "text/plain": [
       "<AxesSubplot: xlabel='rings'>"
      ]
     },
     "execution_count": 21,
     "metadata": {},
     "output_type": "execute_result"
    },
    {
     "data": {
      "image/png": "[encoded data removed]",
      "text/plain": [
       "<Figure size 640x480 with 1 Axes>"
      ]
     },
     "metadata": {},
     "output_type": "display_data"
    }
   ],
   "source": [
    "from sklearn.cross_decomposition import PLSRegression\n",
    "\n",
    "pls_model = PLSRegression().fit(x_egitim, y_egitim)\n",
    "pls_pred = pls_model.predict(x_egitim)\n",
    "sbn.regplot(x = y_egitim, y = pls_pred)"
   ]
  },
  {
   "cell_type": "code",
   "execution_count": 22,
   "id": "df0f6bab-d019-4e37-9774-0789be5eaf34",
   "metadata": {},
   "outputs": [
    {
     "data": {
      "text/plain": [
       "(4.095393614420276, 0.5095243709965176)"
      ]
     },
     "execution_count": 22,
     "metadata": {},
     "output_type": "execute_result"
    }
   ],
   "source": [
    "pls_model1 = PLSRegression(n_components=4).fit(x_egitim, y_egitim)\n",
    "pls_pred1 = pls_model1.predict(x_egitim)\n",
    "mean_squared_error(y_egitim, pls_pred1), r2_score(y_egitim, pls_pred1)\n"
   ]
  },
  {
   "cell_type": "code",
   "execution_count": 23,
   "id": "affb52c9-dfc4-442d-8453-34c9163cf6a3",
   "metadata": {},
   "outputs": [
    {
     "data": {
      "text/plain": [
       "([0.36572451328036615,\n",
       "  0.4512868267812502,\n",
       "  0.5054814492947439,\n",
       "  0.5096401850709286,\n",
       "  0.5197743248304074,\n",
       "  0.5219318482016373,\n",
       "  0.5284823711199442,\n",
       "  0.5291314411051934,\n",
       "  0.5295198734574846],\n",
       " [5.296099590865621,\n",
       "  4.581667860468557,\n",
       "  4.129151368612233,\n",
       "  4.094426585290274,\n",
       "  4.009808127604749,\n",
       "  3.9917931500706985,\n",
       "  3.9370973239289313,\n",
       "  3.931677692624718,\n",
       "  3.928434344166325])"
      ]
     },
     "execution_count": 23,
     "metadata": {},
     "output_type": "execute_result"
    }
   ],
   "source": [
    "# Optimizasyon işlemi\n",
    "from sklearn.model_selection import cross_val_predict\n",
    "\n",
    "def optimum_pls(x, y, ncomp):\n",
    "    model = PLSRegression(n_components=ncomp)\n",
    "    cvstep = cross_val_predict(model, x, y, cv = 10)\n",
    "    rsq = r2_score(y, cvstep)\n",
    "    mse = mean_squared_error(y, cvstep)\n",
    "    return(cvstep, rsq, mse)\n",
    "\n",
    "rsq_sonuc = []\n",
    "mse_sonuc = []\n",
    "for i in np.arange(1, 10):\n",
    "    cvstep, rsq, mse = optimum_pls(x_egitim, y_egitim, i)\n",
    "    rsq_sonuc.append(rsq)\n",
    "    mse_sonuc.append(mse)\n",
    "\n",
    "rsq_sonuc,mse_sonuc"
   ]
  },
  {
   "cell_type": "code",
   "execution_count": 24,
   "id": "7defa601-64f6-4840-aedd-67b32839fa8a",
   "metadata": {},
   "outputs": [
    {
     "data": {
      "image/png": "[encoded data removed]",
      "text/plain": [
       "<Figure size 640x480 with 1 Axes>"
      ]
     },
     "metadata": {},
     "output_type": "display_data"
    }
   ],
   "source": [
    "import matplotlib.pyplot as mp\n",
    "def pls_grafigi(degerler, y_ekseni, fonk):\n",
    "    with mp.style.context(\"ggplot\"):\n",
    "        mp.plot(np.arange(1, 10), np.array(degerler), \"-v\", color = \"red\", mfc = \"blue\")\n",
    "        if fonk == \"min\":\n",
    "            indeks = np.argmin(degerler)\n",
    "        else:\n",
    "            indeks = np.argmax(degerler)\n",
    "            mp.plot(np.arange(1, 10)[indeks], np.array(degerler)[indeks], \"P\", ms = 10, mfc = \"blue\")\n",
    "            mp.xlabel(\"PLS bilesen sayisi\")\n",
    "            \n",
    "pls_grafigi(mse_sonuc, \"MSE\", \"min\")\n",
    "pls_grafigi(rsq_sonuc, \"R2\", \"max\")"
   ]
  },
  {
   "cell_type": "markdown",
   "id": "3bf88ad4-295c-4d0f-83f5-7df438c11a59",
   "metadata": {},
   "source": [
    "#### ----  Ridge regresyon modeli;"
   ]
  },
  {
   "cell_type": "code",
   "execution_count": 25,
   "id": "beab8fc6-abdb-4b3c-a5ab-9be67b301e15",
   "metadata": {},
   "outputs": [
    {
     "data": {
      "text/plain": [
       "(3.9476596577098424, 0.527217396909237)"
      ]
     },
     "execution_count": 25,
     "metadata": {},
     "output_type": "execute_result"
    }
   ],
   "source": [
    "from sklearn.linear_model import Ridge\n",
    "ridge_model = Ridge().fit(x_egitim, y_egitim)\n",
    "ridge_pred = ridge_model.predict(x_egitim)\n",
    "mean_squared_error(y_egitim, ridge_pred), r2_score(y_egitim, ridge_pred)"
   ]
  },
  {
   "cell_type": "code",
   "execution_count": 26,
   "id": "edaf3d82-6214-4172-b18b-dc2561f646d6",
   "metadata": {},
   "outputs": [],
   "source": [
    "# Lambda optimizasyonu\n",
    "rsq = []\n",
    "mse_sonuc = []\n",
    "alpha_cand = np.array([0, 0.05, 0.1, 0.2, 0.5, 1, 5, 10])\n",
    "for i in alpha_cand:\n",
    "    model_i = Ridge(alpha=i).fit(x_egitim, y_egitim)\n",
    "    yhats = model_i.predict(x_egitim)\n",
    "    rsq.append(r2_score(y_egitim, yhats))\n",
    "    mse_sonuc.append(mean_squared_error(y_egitim, yhats))"
   ]
  },
  {
   "cell_type": "code",
   "execution_count": 27,
   "id": "51c99cbe-c367-4ce7-80f1-89b796730dca",
   "metadata": {},
   "outputs": [
    {
     "data": {
      "text/plain": [
       "<AxesSubplot: xlabel='rings'>"
      ]
     },
     "execution_count": 27,
     "metadata": {},
     "output_type": "execute_result"
    },
    {
     "data": {
      "image/png": "[encoded data removed]",
      "text/plain": [
       "<Figure size 640x480 with 1 Axes>"
      ]
     },
     "metadata": {},
     "output_type": "display_data"
    }
   ],
   "source": [
    "sbn.regplot(x = y_egitim, y = ridge_pred)"
   ]
  },
  {
   "cell_type": "code",
   "execution_count": 28,
   "id": "6bb26b40-d485-426d-829b-291d90133ef4",
   "metadata": {},
   "outputs": [
    {
     "data": {
      "text/plain": [
       "([3.9077899639423075,\n",
       "  3.9046795073861422,\n",
       "  3.9057602973884595,\n",
       "  3.909111824118337,\n",
       "  3.922792722772159,\n",
       "  3.9476596577098424,\n",
       "  4.154413228089625,\n",
       "  4.3848349896613],\n",
       " [0.5319923013433193,\n",
       "  0.5323648181950577,\n",
       "  0.5322353798049746,\n",
       "  0.5318339917246762,\n",
       "  0.5301955295878649,\n",
       "  0.527217396909237,\n",
       "  0.5024560193645551,\n",
       "  0.4748600739968091])"
      ]
     },
     "execution_count": 28,
     "metadata": {},
     "output_type": "execute_result"
    }
   ],
   "source": [
    "mse_sonuc, rsq"
   ]
  },
  {
   "cell_type": "markdown",
   "id": "bd459b9a-0d0f-423d-94fe-49c9dba7866a",
   "metadata": {},
   "source": [
    "#### ---- Lasso Regresyon modeli;"
   ]
  },
  {
   "cell_type": "code",
   "execution_count": 29,
   "id": "c1800a8e-33bb-4369-92dc-68b10a02c9b4",
   "metadata": {},
   "outputs": [],
   "source": [
    "from sklearn.linear_model import Lasso, LassoCV\n",
    "lasso = Lasso(alpha=1.0)\n",
    "lasso.fit(x_egitim, y_egitim)\n",
    "lasso_pred = lasso.predict(x_test)"
   ]
  },
  {
   "cell_type": "code",
   "execution_count": 30,
   "id": "541f4596-83e1-4127-bb26-9bcb061b00f9",
   "metadata": {},
   "outputs": [
    {
     "name": "stdout",
     "output_type": "stream",
     "text": [
      "MSE: 3.8635095722451216  R2: 0.4993952120227867  MAPE: 0.15395624230974828  AIC: 1112.7218207005021\n"
     ]
    }
   ],
   "source": [
    "# Lambda optimizasyonu ugulayalım:\n",
    "lasso_cv = LassoCV(cv=10)\n",
    "lasso_cv.fit(x_egitim, y_egitim)\n",
    "lasso_cv.alpha_\n",
    "lasso_opt = Lasso(alpha=lasso_cv.alpha_)\n",
    "lasso_opt_model = lasso_opt.fit(x_egitim, y_egitim)\n",
    "lasso_pred_opt = lasso_opt.predict(x_test)\n",
    "\n",
    "print(\"MSE:\",mean_squared_error(y_test, lasso_pred_opt),\" R2:\", r2_score(y_test, lasso_pred_opt),\n",
    "      \" MAPE:\", mean_absolute_percentage_error(y_test, lasso_pred_opt), \" AIC:\",AIC(len(lasso_pred_opt), mean_squared_error(y_test, lasso_pred_opt), lasso_opt_model))"
   ]
  },
  {
   "cell_type": "markdown",
   "id": "7fb27ae9-8364-4359-9af0-2c4c4418e451",
   "metadata": {
    "tags": []
   },
   "source": [
    "#### ---- K-en yakın komşu (KNN) regresyon modeli;"
   ]
  },
  {
   "cell_type": "code",
   "execution_count": 31,
   "id": "0a620d0e-aafd-4421-a9fe-f5a0cd979acf",
   "metadata": {},
   "outputs": [],
   "source": [
    "from sklearn.neighbors import KNeighborsRegressor\n",
    "KNN_model = KNeighborsRegressor(n_neighbors=5).fit(x_egitim, y_egitim)\n",
    "KNN_pred = KNN_model.predict(x_test)"
   ]
  },
  {
   "cell_type": "code",
   "execution_count": 32,
   "id": "a48f2b2f-b7c2-4b4b-a22e-b415e7173c69",
   "metadata": {},
   "outputs": [
    {
     "data": {
      "text/plain": [
       "{'metric': 'manhattan', 'n_neighbors': 17, 'weights': 'distance'}"
      ]
     },
     "execution_count": 32,
     "metadata": {},
     "output_type": "execute_result"
    }
   ],
   "source": [
    "## Grid Search kullanarak en iyi K degerini belirleyelim\n",
    "from sklearn.model_selection import GridSearchCV\n",
    "k_params = {\"n_neighbors\": [3, 5, 7, 9, 11, 13, 15, 17, 19, 21], \"metric\": [\"euclidean\", \"manhattan\", \"minkowski\"], \"weights\": [\"uniform\", \"distance\"]}\n",
    "KNN_arg = KNeighborsRegressor()\n",
    "KNN_model = GridSearchCV(KNN_arg, k_params, cv=5) \n",
    "KNN_model.fit(x_egitim, y_egitim)\n",
    "KNN_model.best_params_"
   ]
  },
  {
   "cell_type": "code",
   "execution_count": 33,
   "id": "da462a7d-562d-44fb-bae3-b4982ccbe21e",
   "metadata": {},
   "outputs": [
    {
     "name": "stdout",
     "output_type": "stream",
     "text": [
      "MSE: 3.7509049153289404  R2: 0.513985684583209  MAPE: 0.14789554708650832\n"
     ]
    }
   ],
   "source": [
    "# GridSearch ile bulduğumuz en iyi parametreler ile tekrar model oluşturuyoruz.\n",
    "best_KNN_model = KNeighborsRegressor(n_neighbors = 15 , metric = \"euclidean\", weights = \"distance\").fit(x_egitim, y_egitim)\n",
    "best_KNN_pred = best_KNN_model.predict(x_test)\n",
    "print(\"MSE:\",mean_squared_error(y_test, best_KNN_pred),\" R2:\", r2_score(y_test, best_KNN_pred),\n",
    "      \" MAPE:\", mean_absolute_percentage_error(y_test, best_KNN_pred))"
   ]
  },
  {
   "cell_type": "markdown",
   "id": "52f682d2-b754-48f6-a989-01c78f6dcc8f",
   "metadata": {},
   "source": [
    "#### ---- Support Vector Machine (SVR) Regresyon modeli;"
   ]
  },
  {
   "cell_type": "code",
   "execution_count": 34,
   "id": "51d7b48c-e3b1-4b57-bee2-458745fca27b",
   "metadata": {},
   "outputs": [],
   "source": [
    "from sklearn.svm import SVR"
   ]
  },
  {
   "cell_type": "code",
   "execution_count": 35,
   "id": "16b04bd6-5743-4208-8b13-0e1b9e573052",
   "metadata": {
    "tags": []
   },
   "outputs": [
    {
     "name": "stdout",
     "output_type": "stream",
     "text": [
      "MSE: 4.192669708345294  R2: 0.4567450937658717  MAPE: 0.14709934839316052  AIC: 1160.7035181935737\n"
     ]
    }
   ],
   "source": [
    "# Dogrusal olan SVR\n",
    "\n",
    "SVR_model = SVR(kernel = \"linear\").fit(x_egitim, y_egitim)\n",
    "SVR_pred_l = SVR_model.predict(x_egitim)\n",
    "\n",
    "mean_squared_error(y_egitim, SVR_pred_l), r2_score(y_egitim, SVR_pred_l)\n",
    "\n",
    "SVR_predicted_l = SVR_model.predict(x_test)\n",
    "print(\"MSE:\",mean_squared_error(y_test, SVR_predicted_l),\" R2:\", r2_score(y_test, SVR_predicted_l),\n",
    "      \" MAPE:\", mean_absolute_percentage_error(y_test, SVR_predicted_l), \" AIC:\",AIC(len(SVR_predicted_l), mean_squared_error(y_test, SVR_predicted_l), SVR_model))"
   ]
  },
  {
   "cell_type": "code",
   "execution_count": 36,
   "id": "5fedb5dd-d93e-44b0-a127-04de49710e10",
   "metadata": {},
   "outputs": [
    {
     "name": "stdout",
     "output_type": "stream",
     "text": [
      "MSE: 3.9390794252931616  R2: 0.4896034334455177  MAPE: 0.1448823698515225\n"
     ]
    }
   ],
   "source": [
    "# Dogrusal olmayan SVR\n",
    "SVR_model_nl = SVR(kernel=\"rbf\").fit(x_egitim, y_egitim)\n",
    "SVR_pred_nl = SVR_model_nl.predict(x_egitim)\n",
    "mean_squared_error(y_egitim, SVR_pred_nl)\n",
    "r2_score(y_egitim, SVR_pred_nl)\n",
    "\n",
    "SVR_predicted_nl = SVR_model_nl.predict(x_test)\n",
    "print(\"MSE:\",mean_squared_error(y_test, SVR_predicted_nl),\" R2:\", r2_score(y_test, SVR_predicted_nl),\n",
    "      \" MAPE:\", mean_absolute_percentage_error(y_test, SVR_predicted_nl))"
   ]
  },
  {
   "cell_type": "code",
   "execution_count": 37,
   "id": "c66053d0-8bd4-4f2e-8cbe-c561850b8526",
   "metadata": {},
   "outputs": [
    {
     "name": "stdout",
     "output_type": "stream",
     "text": [
      "MSE_l: 4.106563997425862  R2_l: 0.46790203031602506  MAPE_l: 0.14640737228989945  AIC_l: 1143.9574414778244\n",
      "MSE_nl: 3.785447332885434  R2_nl: 0.5095099354505259  MAPE_nl: 0.14215521941836695\n"
     ]
    }
   ],
   "source": [
    "# Grid Search uygulaması\n",
    "params_svr = {\"C\":np.arange(0.1, 2, 0.4)}\n",
    "SVR_model_l_gs = GridSearchCV(SVR_model, params_svr, cv = 10).fit(x_egitim, y_egitim)\n",
    "SVR_model_nl_gs = GridSearchCV(SVR_model_nl, params_svr, cv = 10).fit(x_egitim, y_egitim)\n",
    " \n",
    "SVR_model_l_gs.best_params_\n",
    "SVR_model_nl_gs.best_params_\n",
    "\n",
    "bp = pd.Series(SVR_model_l_gs.best_params_)[0]\n",
    "\n",
    "best_SVR_model_l = SVR(kernel=\"linear\", C = bp).fit(x_egitim, y_egitim)\n",
    "best_SVR_model_nl = SVR(kernel=\"rbf\", C = bp).fit(x_egitim, y_egitim)\n",
    "\n",
    "best_SVR_model_l_pred = best_SVR_model_l.predict(x_test)\n",
    "best_SVR_model_nl_pred = best_SVR_model_nl.predict(x_test)\n",
    "\n",
    "print(\"MSE_l:\",mean_squared_error(y_test, best_SVR_model_l_pred),\" R2_l:\", r2_score(y_test, best_SVR_model_l_pred),\n",
    "      \" MAPE_l:\", mean_absolute_percentage_error(y_test, best_SVR_model_l_pred), \" AIC_l:\",AIC(len(best_SVR_model_l_pred), mean_squared_error(y_test, best_SVR_model_l_pred), best_SVR_model_l))\n",
    "print(\"MSE_nl:\",mean_squared_error(y_test, best_SVR_model_nl_pred),\" R2_nl:\", r2_score(y_test, best_SVR_model_nl_pred),\n",
    "      \" MAPE_nl:\", mean_absolute_percentage_error(y_test, best_SVR_model_nl_pred))"
   ]
  },
  {
   "cell_type": "markdown",
   "id": "39cbd29b-ecd0-4e0d-a416-db9659460208",
   "metadata": {},
   "source": [
    "#### ---- Yapay Sinir Aglari (ANN) modeli;"
   ]
  },
  {
   "cell_type": "code",
   "execution_count": 38,
   "id": "17103446-c4d5-4dfd-bf43-c0505211fde0",
   "metadata": {},
   "outputs": [
    {
     "name": "stdout",
     "output_type": "stream",
     "text": [
      "MSE: 3.6404919622947536  R2: 0.5640046468790039  MAPE: 0.14579642963890657\n",
      "MSE: 3.52888924377212  R2: 0.5427528213300024  MAPE: 0.14823671758595522\n"
     ]
    }
   ],
   "source": [
    "from sklearn.preprocessing import  StandardScaler\n",
    "from sklearn.neural_network import MLPRegressor\n",
    "\n",
    "# Veriyi ölçeklendirme:\n",
    "sc = StandardScaler()\n",
    "x_egitim_scaled = sc.fit_transform(x_egitim)\n",
    "x_test_scaled = sc.transform(x_test)\n",
    "\n",
    "# Modeli tanımlama:\n",
    "ann_model = MLPRegressor(hidden_layer_sizes=(16, 8), activation=\"relu\", solver=\"adam\").fit(x_egitim_scaled, y_egitim)\n",
    "\n",
    "\n",
    "y_hat_ann0 = ann_model.predict(x_egitim_scaled)\n",
    "print(\"MSE:\",mean_squared_error(y_egitim, y_hat_ann0),\" R2:\", r2_score(y_egitim, y_hat_ann0),\n",
    "      \" MAPE:\", mean_absolute_percentage_error(y_egitim, y_hat_ann0))\n",
    "\n",
    "y_predict_ann0 = ann_model.predict(x_test_scaled)\n",
    "print(\"MSE:\",mean_squared_error(y_test, y_predict_ann0),\" R2:\", r2_score(y_test, y_predict_ann0),\n",
    "      \" MAPE:\", mean_absolute_percentage_error(y_test, y_predict_ann0))\n",
    "\n"
   ]
  },
  {
   "cell_type": "code",
   "execution_count": 39,
   "id": "0e749706-e9ad-4cd4-a82e-dfd2f0287c4d",
   "metadata": {
    "tags": []
   },
   "outputs": [
    {
     "data": {
      "text/plain": [
       "{'activation': 'relu',\n",
       " 'hidden_layer_sizes': (32, 16),\n",
       " 'max_iter': 100,\n",
       " 'solver': 'sgd'}"
      ]
     },
     "execution_count": 39,
     "metadata": {},
     "output_type": "execute_result"
    }
   ],
   "source": [
    "# Grid Search ile optimizasyon\n",
    "ann_params = {\"hidden_layer_sizes\": [(32, 16), (64, 32), (128, 64)], \n",
    "              \"activation\": [\"relu\", \"tanh\"], \n",
    "              \"solver\": [\"adam\", \"sgd\"], \"max_iter\": [50, 100]}\n",
    "\n",
    "ann_model_gs = GridSearchCV(ann_model, ann_params, cv=3)\n",
    "ann_model_gs.fit(x_egitim_scaled, y_egitim)\n",
    "ann_model_gs.best_params_\n",
    "\n",
    "# best params \n",
    "#{'activation': 'relu',\n",
    "# 'hidden_layer_sizes': (128, 64),\n",
    "# 'max_iter': 100,\n",
    "# 'solver': 'sgd'}"
   ]
  },
  {
   "cell_type": "code",
   "execution_count": 40,
   "id": "6a04eb92-1313-4251-9eb0-21a754b13295",
   "metadata": {},
   "outputs": [
    {
     "name": "stdout",
     "output_type": "stream",
     "text": [
      "MSE: 3.5164948238343925  R2: 0.5788548860029876  MAPE: 0.14065265148672756\n"
     ]
    }
   ],
   "source": [
    "best_ann = MLPRegressor(activation = \"relu\", hidden_layer_sizes = (128, 64), max_iter= 100, solver= \"sgd\")\n",
    "\n",
    "best_ann_model = best_ann.fit(x_egitim_scaled, y_egitim)\n",
    "best_yhat = best_ann_model.predict(x_egitim_scaled)\n",
    "\n",
    "print(\"MSE:\",mean_squared_error(y_egitim, best_yhat),\" R2:\", r2_score(y_egitim, best_yhat),\n",
    "      \" MAPE:\", mean_absolute_percentage_error(y_egitim, best_yhat))"
   ]
  },
  {
   "cell_type": "code",
   "execution_count": 41,
   "id": "195d060c-6c66-48c2-bab1-5f51e372e89c",
   "metadata": {},
   "outputs": [
    {
     "name": "stdout",
     "output_type": "stream",
     "text": [
      "MSE: 3.3427840611934827  R2: 0.566866944441156  MAPE: 0.14157784997777811\n"
     ]
    }
   ],
   "source": [
    "best_ann_predicted = best_ann_model.predict(x_test_scaled)\n",
    "print(\"MSE:\",mean_squared_error(y_test, best_ann_predicted),\" R2:\", r2_score(y_test, best_ann_predicted),\n",
    "      \" MAPE:\", mean_absolute_percentage_error(y_test, best_ann_predicted))"
   ]
  },
  {
   "cell_type": "markdown",
   "id": "7e2f5f3c-0eb1-4e73-8955-2d3a5f8ceb6a",
   "metadata": {},
   "source": [
    "#### ---- Classification and Regression Trees (CART) modeli :"
   ]
  },
  {
   "cell_type": "code",
   "execution_count": 42,
   "id": "2509fc56-f5ea-49b4-a979-1a511a8fed96",
   "metadata": {},
   "outputs": [
    {
     "name": "stdout",
     "output_type": "stream",
     "text": [
      "1.0\n",
      "MSE: 6.695167286245353  R2: 0.13249010074144452  MAPE: 0.18997780111266593\n"
     ]
    }
   ],
   "source": [
    "from sklearn.tree import DecisionTreeRegressor\n",
    "\n",
    "cart_model = DecisionTreeRegressor().fit(x_egitim, y_egitim)\n",
    "fitted_cart = cart_model.predict(x_egitim)\n",
    "\n",
    "mean_squared_error(y_egitim, fitted_cart)\n",
    "print(r2_score(y_egitim, fitted_cart))\n",
    "\n",
    "preds_cart = cart_model.predict(x_test)\n",
    "print(\"MSE:\",mean_squared_error(y_test, preds_cart),\" R2:\", r2_score(y_test, preds_cart),\n",
    "      \" MAPE:\", mean_absolute_percentage_error(y_test, preds_cart))"
   ]
  },
  {
   "cell_type": "code",
   "execution_count": 43,
   "id": "0c205278-bcbb-4b16-ab50-1e091f78a364",
   "metadata": {
    "tags": []
   },
   "outputs": [
    {
     "data": {
      "text/plain": [
       "{'max_depth': 5, 'max_features': 'auto', 'min_samples_leaf': 4}"
      ]
     },
     "execution_count": 43,
     "metadata": {},
     "output_type": "execute_result"
    }
   ],
   "source": [
    "# Model optimizasyonu\n",
    "cart_params = {\"max_depth\": [3, 5, 7, 9], \"min_samples_leaf\": [1, 2, 4], \"max_features\": [\"auto\", \"sqrt\", \"log2\"]}\n",
    "grid_cart_model = GridSearchCV(cart_model, cart_params, cv = 5)\n",
    "grid_cart_model.fit(x_egitim, y_egitim)\n",
    "grid_cart_model.best_params_\n"
   ]
  },
  {
   "cell_type": "code",
   "execution_count": 44,
   "id": "7899c09a-9455-4d44-b554-ea87ca79e249",
   "metadata": {},
   "outputs": [
    {
     "name": "stdout",
     "output_type": "stream",
     "text": [
      "MSE: 4.143265854912035  R2: 0.4631464770446614  MAPE: 0.155766941421339\n"
     ]
    }
   ],
   "source": [
    "# {'max_depth': 5, 'max_features': 'auto', 'min_samples_leaf': 4}\n",
    "best_cart_model = DecisionTreeRegressor(max_depth = 5, max_features = \"auto\", min_samples_leaf = 4).fit(x_egitim, y_egitim)\n",
    "preds_best_cart = best_cart_model.predict(x_test)\n",
    "print(\"MSE:\",mean_squared_error(y_test, preds_best_cart),\" R2:\", r2_score(y_test, preds_best_cart),\n",
    "      \" MAPE:\", mean_absolute_percentage_error(y_test, preds_best_cart))"
   ]
  },
  {
   "cell_type": "markdown",
   "id": "77a84267-fcb4-4f5e-aa13-d37e00d47bd8",
   "metadata": {},
   "source": [
    "#### ---- Bagging (Bootstrap aggregation) modeli:"
   ]
  },
  {
   "cell_type": "code",
   "execution_count": 45,
   "id": "030838f2-7842-4c6f-94ea-ab73749c68fa",
   "metadata": {},
   "outputs": [
    {
     "name": "stdout",
     "output_type": "stream",
     "text": [
      "MSE: 0.7250054280397021  R2: 0.9131713513210016  MAPE: 0.06071796990772634\n",
      "MSE: 4.044770755885998  R2: 0.47590873820713886  MAPE: 0.15859130658495063\n"
     ]
    }
   ],
   "source": [
    "from sklearn.ensemble import BaggingRegressor\n",
    "bag_model = BaggingRegressor(bootstrap_features=(True)).fit(x_egitim, y_egitim)\n",
    "fits_bag = bag_model.predict(x_egitim)\n",
    "print(\"MSE:\",mean_squared_error(y_egitim, fits_bag),\" R2:\", r2_score(y_egitim, fits_bag),\n",
    "      \" MAPE:\", mean_absolute_percentage_error(y_egitim, fits_bag))\n",
    "\n",
    "preds_bag = bag_model.predict(x_test)\n",
    "print(\"MSE:\",mean_squared_error(y_test, preds_bag),\" R2:\", r2_score(y_test, preds_bag),\n",
    "      \" MAPE:\", mean_absolute_percentage_error(y_test, preds_bag))"
   ]
  },
  {
   "cell_type": "code",
   "execution_count": 46,
   "id": "32856fe5-4c16-42b7-a970-082d4ece6c29",
   "metadata": {},
   "outputs": [
    {
     "data": {
      "text/plain": [
       "{'max_features': 1.0, 'max_samples': 1.0, 'n_estimators': 50}"
      ]
     },
     "execution_count": 46,
     "metadata": {},
     "output_type": "execute_result"
    }
   ],
   "source": [
    "# Model optimizasyonu\n",
    "bag_params = {\"n_estimators\": [10, 20, 50], \"max_samples\": [0.5, 0.8, 1.0], \"max_features\": [0.5, 0.8, 1.0]}\n",
    "grid_bag_model = GridSearchCV(bag_model, bag_params, cv = 10)\n",
    "grid_bag_model.fit(x_egitim, y_egitim)\n",
    "\n",
    "grid_bag_model.best_params_"
   ]
  },
  {
   "cell_type": "code",
   "execution_count": 47,
   "id": "6ad22b87-a142-42b3-a7aa-420529d520e3",
   "metadata": {},
   "outputs": [
    {
     "name": "stdout",
     "output_type": "stream",
     "text": [
      "MSE: 3.7653938042131347  R2: 0.5121083223009971  MAPE: 0.14940091364594169\n"
     ]
    }
   ],
   "source": [
    "best_bag_model = BaggingRegressor(n_estimators = 50, max_samples = 1.0 , max_features = 1.0).fit(x_egitim, y_egitim)\n",
    "best_preds = best_bag_model.predict(x_test)\n",
    "print(\"MSE:\",mean_squared_error(y_test, best_preds),\" R2:\", r2_score(y_test, best_preds),\n",
    "      \" MAPE:\", mean_absolute_percentage_error(y_test, best_preds))"
   ]
  },
  {
   "cell_type": "markdown",
   "id": "72e69d31-13b5-40a5-bc1b-5a326a329163",
   "metadata": {},
   "source": [
    "#### ---- Random forest (RF) modeli:"
   ]
  },
  {
   "cell_type": "code",
   "execution_count": 48,
   "id": "c858d813-92ff-41bc-83b8-9e99bc76d596",
   "metadata": {},
   "outputs": [
    {
     "name": "stdout",
     "output_type": "stream",
     "text": [
      "MSE: 0.5273754652605459  R2: 0.9368400604684525  MAPE: 0.05467975211814123\n",
      "MSE: 3.7462529120198265  R2: 0.5145884565154848  MAPE: 0.14872784838654013\n"
     ]
    }
   ],
   "source": [
    "from sklearn.ensemble import RandomForestRegressor\n",
    "\n",
    "rf_model = RandomForestRegressor().fit(x_egitim, y_egitim)\n",
    "fits_rf = rf_model.predict(x_egitim)\n",
    "print(\"MSE:\",mean_squared_error(y_egitim, fits_rf),\" R2:\", r2_score(y_egitim, fits_rf),\n",
    "      \" MAPE:\", mean_absolute_percentage_error(y_egitim, fits_rf))\n",
    "\n",
    "preds_rf = rf_model.predict(x_test)\n",
    "print(\"MSE:\",mean_squared_error(y_test, preds_rf),\" R2:\", r2_score(y_test, preds_rf),\n",
    "      \" MAPE:\", mean_absolute_percentage_error(y_test, preds_rf))"
   ]
  },
  {
   "cell_type": "code",
   "execution_count": 49,
   "id": "ae9125ca-a86e-4e7e-a3d6-fbfe355ac83a",
   "metadata": {
    "tags": []
   },
   "outputs": [
    {
     "data": {
      "text/plain": [
       "{'max_depth': 10, 'max_features': 'auto', 'n_estimators': 100}"
      ]
     },
     "execution_count": 49,
     "metadata": {},
     "output_type": "execute_result"
    }
   ],
   "source": [
    "# Model optimizasyonu\n",
    "rf_params = {\"n_estimators\": [100, 200, 300],\n",
    "          \"max_depth\": [None, 10, 20],\n",
    "          \"max_features\": [\"auto\", \"sqrt\", \"log2\"]}\n",
    "\n",
    "grid_rf_model = GridSearchCV(rf_model, rf_params, cv=5, scoring=\"neg_mean_squared_error\")\n",
    "grid_rf_model.fit(x_egitim, y_egitim)\n",
    "\n",
    "grid_rf_model.best_params_"
   ]
  },
  {
   "cell_type": "code",
   "execution_count": 50,
   "id": "c8a53b38-854a-4675-929b-9de1003d2642",
   "metadata": {},
   "outputs": [
    {
     "name": "stdout",
     "output_type": "stream",
     "text": [
      "MSE: 3.5833509361869944  R2: 0.5356960809558909  MAPE: 0.14715791598762187\n"
     ]
    }
   ],
   "source": [
    "#{'max_depth': 20, 'max_features': 'log2', 'n_estimators': 300}\n",
    "best_rf_model = RandomForestRegressor(max_depth = 20, max_features = \"log2\", n_estimators=300).fit(x_egitim, y_egitim)\n",
    "\n",
    "best_preds_rf = best_rf_model.predict(x_test)\n",
    "print(\"MSE:\",mean_squared_error(y_test, best_preds_rf),\" R2:\", r2_score(y_test, best_preds_rf),\n",
    "      \" MAPE:\", mean_absolute_percentage_error(y_test, best_preds_rf))"
   ]
  },
  {
   "cell_type": "markdown",
   "id": "795e10f5-6667-4f05-9863-5e8204091aca",
   "metadata": {},
   "source": [
    "#### ---- Gradient Boosting Machines modeli:"
   ]
  },
  {
   "cell_type": "code",
   "execution_count": 51,
   "id": "26a483c8-90ec-4872-b1b3-13b9736f1004",
   "metadata": {},
   "outputs": [
    {
     "name": "stdout",
     "output_type": "stream",
     "text": [
      "MSE: 2.971662727768013  R2: 0.6441054797624035  MAPE: 0.13176483457973567\n",
      "MSE: 3.5958178041589903  R2: 0.5340807170798195  MAPE: 0.14484888357422288\n"
     ]
    }
   ],
   "source": [
    "from sklearn.ensemble import GradientBoostingRegressor\n",
    "\n",
    "gb_model = GradientBoostingRegressor().fit(x_egitim, y_egitim)\n",
    "gb_fits = gb_model.predict(x_egitim)\n",
    "print(\"MSE:\",mean_squared_error(y_egitim, gb_fits),\" R2:\", r2_score(y_egitim, gb_fits),\n",
    "      \" MAPE:\", mean_absolute_percentage_error(y_egitim, gb_fits))\n",
    "\n",
    "gb_preds = gb_model.predict(x_test)\n",
    "print(\"MSE:\",mean_squared_error(y_test, gb_preds),\" R2:\", r2_score(y_test, gb_preds),\n",
    "      \" MAPE:\", mean_absolute_percentage_error(y_test, gb_preds))"
   ]
  },
  {
   "cell_type": "code",
   "execution_count": 52,
   "id": "0ccf790c-eda8-4624-b4f3-5d834dd21d7a",
   "metadata": {},
   "outputs": [
    {
     "data": {
      "text/plain": [
       "{'learning_rate': 0.01, 'max_depth': 10, 'n_estimators': 200}"
      ]
     },
     "execution_count": 52,
     "metadata": {},
     "output_type": "execute_result"
    }
   ],
   "source": [
    "# model optimizasyonu\n",
    "gb_params = {\"n_estimators\": [100, 200, 300],\n",
    "          \"learning_rate\": [0.1, 0.01, 0.001],\n",
    "          \"max_depth\": [None, 10, 20]}\n",
    "\n",
    "grid_gb_model = GridSearchCV(gb_model, gb_params, cv=5, scoring=\"neg_mean_squared_error\")\n",
    "grid_gb_model.fit(x_egitim, y_egitim)\n",
    "\n",
    "grid_gb_model.best_params_"
   ]
  },
  {
   "cell_type": "code",
   "execution_count": 53,
   "id": "75b6f07c-5e4e-469e-acdc-e6777655f9b3",
   "metadata": {},
   "outputs": [
    {
     "name": "stdout",
     "output_type": "stream",
     "text": [
      "MSE: 4.1141467613870235  R2: 0.4669195122520534  MAPE: 0.15868790863003784\n"
     ]
    }
   ],
   "source": [
    "best_gb_model = GradientBoostingRegressor(learning_rate=0.01, max_depth=10, n_estimators=200).fit(x_egitim, y_egitim)\n",
    "\n",
    "best_gb_preds = best_gb_model.predict(x_test)\n",
    "print(\"MSE:\",mean_squared_error(y_test, best_gb_preds),\" R2:\", r2_score(y_test, best_gb_preds),\n",
    "      \" MAPE:\", mean_absolute_percentage_error(y_test, best_gb_preds))"
   ]
  },
  {
   "cell_type": "markdown",
   "id": "3dca4359-ff9f-4ce8-8991-b16d1bcf5c57",
   "metadata": {},
   "source": [
    "#### ---- XGboost modeli:"
   ]
  },
  {
   "cell_type": "code",
   "execution_count": 54,
   "id": "dae3d7d1-7d88-48f5-8f56-9c9b102e13f5",
   "metadata": {},
   "outputs": [
    {
     "name": "stdout",
     "output_type": "stream",
     "text": [
      "MSE: 2.983625666111069  R2: 0.6426727652882978  MAPE: 0.12962093725000864\n",
      "MSE: 3.7769988155405776  R2: 0.5106046313882626  MAPE: 0.14862971344776083\n"
     ]
    }
   ],
   "source": [
    "import xgboost as xgb\n",
    "from xgboost import XGBRFRegressor\n",
    "\n",
    "xgb_model = XGBRFRegressor().fit(x_egitim, y_egitim)\n",
    "xgb_fits = xgb_model.predict(x_egitim)\n",
    "print(\"MSE:\",mean_squared_error(y_egitim, xgb_fits),\" R2:\", r2_score(y_egitim, xgb_fits),\n",
    "      \" MAPE:\", mean_absolute_percentage_error(y_egitim, xgb_fits))\n",
    "\n",
    "xgb_preds = xgb_model.predict(x_test)\n",
    "print(\"MSE:\",mean_squared_error(y_test, xgb_preds),\" R2:\", r2_score(y_test, xgb_preds),\n",
    "      \" MAPE:\", mean_absolute_percentage_error(y_test, xgb_preds))"
   ]
  },
  {
   "cell_type": "code",
   "execution_count": null,
   "id": "da2e7603-5970-4e23-bb65-8bb626c71dbd",
   "metadata": {},
   "outputs": [],
   "source": [
    "# Model optimizasyonu\n",
    "xgb_params = {\"n_estimators\": [100, 200, 300],\n",
    "          \"learning_rate\": [0.1, 0.01, 0.001],\n",
    "          \"max_depth\": [None, 10, 20],\n",
    "          \"colsample_bytree\": [0.5, 0.8, 1]}\n",
    "\n",
    "grid_xgb_model = GridSearchCV(xgb_model, xgb_params, cv=5, scoring=\"neg_mean_squared_error\")\n",
    "grid_xgb_model.fit(x_egitim, y_egitim)\n",
    "\n",
    "grid_xgb_model.best_params_"
   ]
  },
  {
   "cell_type": "code",
   "execution_count": 56,
   "id": "4d4576ea-f1d6-4d9f-978c-36e158033413",
   "metadata": {},
   "outputs": [
    {
     "name": "stdout",
     "output_type": "stream",
     "text": [
      "MSE: 75.18402235430153  R2: -8.741785510337872  MAPE: 0.8452515747730238\n"
     ]
    }
   ],
   "source": [
    "best_model = XGBRFRegressor(colsample_bytree = 1, learning_rate= 0.1, max_depth = 20, n_estimators = 300).fit(x_egitim, y_egitim)\n",
    "\n",
    "best_xgb_preds = best_model.predict(x_test)\n",
    "print(\"MSE:\",mean_squared_error(y_test, best_xgb_preds),\" R2:\", r2_score(y_test, best_xgb_preds),\n",
    "      \" MAPE:\", mean_absolute_percentage_error(y_test, best_xgb_preds))"
   ]
  },
  {
   "cell_type": "markdown",
   "id": "4d06e861-405b-4bae-b1e0-624ef2b045ce",
   "metadata": {},
   "source": [
    "#####  Oluşturduğumuz modeller üzerinden baktığımız metriclere göre önde olan modelimizin Yapay sinir ağları modeli olduğunu görüyoruz.\n",
    "##### Her ne kadar best_ann_model modelin de metricleri bir tahmin modeli için yeterli olmasada (MSE:3.33 R2:0.56) aralarından seçeceğimiz model bu model olurdu."
   ]
  },
  {
   "cell_type": "code",
   "execution_count": 57,
   "id": "56a18253-0538-4805-9ff2-527e1f9342e0",
   "metadata": {},
   "outputs": [
    {
     "data": {
      "text/plain": [
       "[array([[-0.14674276, -0.03555897, -0.14725173, ...,  0.05869954,\n",
       "          0.06405539, -0.00412203],\n",
       "        [ 0.18519515,  0.12030439,  0.09134249, ..., -0.11665457,\n",
       "          0.13007897,  0.15683527],\n",
       "        [-0.02051882, -0.08507334, -0.06642976, ...,  0.12823463,\n",
       "         -0.06709515,  0.01863535],\n",
       "        ...,\n",
       "        [ 0.12657057,  0.09282479,  0.17641589, ...,  0.18250724,\n",
       "          0.04130486,  0.11266654],\n",
       "        [ 0.1745729 , -0.0801887 ,  0.02475325, ...,  0.21557016,\n",
       "          0.10665568,  0.14285102],\n",
       "        [-0.22611731, -0.07382203,  0.11499669, ..., -0.13166176,\n",
       "         -0.07954107, -0.14182942]]),\n",
       " array([[-0.10522547,  0.19902179,  0.14928124, ..., -0.05142744,\n",
       "         -0.01698987,  0.0232991 ],\n",
       "        [ 0.16750136,  0.09043853, -0.16107917, ..., -0.07044273,\n",
       "          0.06136608, -0.12866578],\n",
       "        [ 0.01716043, -0.00541772,  0.12046181, ..., -0.05943748,\n",
       "          0.16133168,  0.04793686],\n",
       "        ...,\n",
       "        [ 0.05639289,  0.11785711, -0.05710594, ..., -0.13454349,\n",
       "         -0.02930474, -0.12041419],\n",
       "        [ 0.08235775,  0.09566808,  0.07737847, ...,  0.10388167,\n",
       "         -0.14140611,  0.12401747],\n",
       "        [-0.04393713, -0.02336228, -0.11654842, ..., -0.05711852,\n",
       "          0.09216819,  0.15249619]]),\n",
       " array([[-0.07119334],\n",
       "        [ 0.31464861],\n",
       "        [ 0.33948816],\n",
       "        [ 0.11656747],\n",
       "        [ 0.46573671],\n",
       "        [-0.09860392],\n",
       "        [-0.08748181],\n",
       "        [ 0.2644973 ],\n",
       "        [ 0.40347727],\n",
       "        [ 0.1161873 ],\n",
       "        [-0.03190344],\n",
       "        [ 0.3268306 ],\n",
       "        [-0.22367211],\n",
       "        [ 0.83010875],\n",
       "        [ 0.190008  ],\n",
       "        [ 0.22700119],\n",
       "        [ 0.73994673],\n",
       "        [ 0.01258518],\n",
       "        [-0.14945948],\n",
       "        [ 0.28676456],\n",
       "        [ 0.03476762],\n",
       "        [ 0.00937743],\n",
       "        [-0.03995499],\n",
       "        [ 0.04285512],\n",
       "        [ 0.35919992],\n",
       "        [-0.07174455],\n",
       "        [-0.08333879],\n",
       "        [-0.22682093],\n",
       "        [ 0.14523191],\n",
       "        [-0.09186245],\n",
       "        [-0.09614153],\n",
       "        [ 0.72340115],\n",
       "        [-0.22906573],\n",
       "        [ 0.72871188],\n",
       "        [-0.10218351],\n",
       "        [ 0.21842197],\n",
       "        [-0.27494058],\n",
       "        [-0.18802579],\n",
       "        [-0.09733526],\n",
       "        [-0.18404804],\n",
       "        [-0.01841316],\n",
       "        [ 0.03881428],\n",
       "        [ 0.54166675],\n",
       "        [ 0.77097245],\n",
       "        [ 0.32661872],\n",
       "        [ 0.58254473],\n",
       "        [ 0.41715866],\n",
       "        [ 0.45181677],\n",
       "        [-0.17120986],\n",
       "        [ 0.15312497],\n",
       "        [-0.13589746],\n",
       "        [ 0.19848268],\n",
       "        [-0.04671922],\n",
       "        [ 0.20729577],\n",
       "        [ 0.49808495],\n",
       "        [ 0.35487251],\n",
       "        [-0.04060422],\n",
       "        [ 0.11803594],\n",
       "        [-0.01640159],\n",
       "        [-0.07383671],\n",
       "        [-0.18907284],\n",
       "        [-0.01234642],\n",
       "        [ 0.23643336],\n",
       "        [-0.06139199]])]"
      ]
     },
     "execution_count": 57,
     "metadata": {},
     "output_type": "execute_result"
    }
   ],
   "source": [
    "best_ann_model.coefs_"
   ]
  },
  {
   "cell_type": "code",
   "execution_count": 58,
   "id": "64bc86f0-360e-4f73-a015-25331e3ab047",
   "metadata": {},
   "outputs": [
    {
     "data": {
      "text/plain": [
       "[array([-0.12891944, -0.15027821, -0.16266477, -0.00525013, -0.15157163,\n",
       "         0.09521589,  0.11773282,  0.22108527, -0.0559201 , -0.07990618,\n",
       "         0.18457935, -0.21757324,  0.11129378,  0.28396982, -0.09913478,\n",
       "         0.05704721,  0.17976133, -0.18142711, -0.19798106,  0.01055217,\n",
       "         0.24174844,  0.27989458,  0.15596751,  0.15561013, -0.12991459,\n",
       "        -0.07332626,  0.06345403, -0.17982051,  0.18608895,  0.1949159 ,\n",
       "         0.17900582,  0.18184349,  0.1201013 ,  0.10387347, -0.03966174,\n",
       "         0.21418922, -0.05527811, -0.15011915, -0.05116005, -0.05669141,\n",
       "        -0.04549282, -0.05897737, -0.03307681,  0.19605966,  0.1614207 ,\n",
       "         0.04610686, -0.01409904, -0.0021527 ,  0.10613751,  0.05100748,\n",
       "        -0.08935621, -0.04310373,  0.39246672, -0.12104201,  0.25490484,\n",
       "        -0.16737282,  0.0968954 , -0.15581194,  0.14759088,  0.01075538,\n",
       "        -0.21315924, -0.14501473,  0.3358674 ,  0.2868423 ,  0.22326288,\n",
       "        -0.18739401, -0.05510179, -0.09028468, -0.14344538, -0.12455133,\n",
       "         0.19315625,  0.02318886,  0.09516993,  0.22292825,  0.03147771,\n",
       "        -0.02383845, -0.18810776,  0.05031361, -0.04197103,  0.15424009,\n",
       "         0.00649656, -0.06654981,  0.03426347, -0.0749547 , -0.12361122,\n",
       "         0.04784483,  0.22056523, -0.0585392 , -0.13143489,  0.01804793,\n",
       "         0.15575828,  0.33376067, -0.14679756, -0.0220979 ,  0.06591874,\n",
       "         0.21323912, -0.02993641, -0.02538799, -0.19907166, -0.12652994,\n",
       "        -0.12300849,  0.01300737,  0.13055034,  0.09380322, -0.14985327,\n",
       "         0.07413282,  0.10924986,  0.30273011, -0.19955813,  0.12746774,\n",
       "        -0.0272671 ,  0.23897721,  0.01689046,  0.06713617, -0.14851053,\n",
       "        -0.02972471,  0.22166482,  0.02763589, -0.10909782,  0.01420276,\n",
       "        -0.11887719,  0.11518846,  0.02412481, -0.05176426,  0.23928195,\n",
       "         0.15209728, -0.14056529, -0.09321977]),\n",
       " array([ 0.10658648,  0.1983058 ,  0.04294476,  0.18029663,  0.27841629,\n",
       "        -0.06458789,  0.02481758,  0.03929809,  0.20687927,  0.1006728 ,\n",
       "        -0.0119178 , -0.07212744, -0.03930605,  0.33751888, -0.12663851,\n",
       "         0.07537118,  0.39529147, -0.03273097, -0.07312607,  0.15367908,\n",
       "         0.08436504, -0.07855027, -0.03547319, -0.03613434, -0.06341695,\n",
       "        -0.0101711 , -0.10560469, -0.03633528, -0.06046758, -0.07141221,\n",
       "        -0.16715449,  0.34887153, -0.17872263,  0.3846436 ,  0.02432489,\n",
       "         0.16054367, -0.24444464,  0.08730524,  0.04846487, -0.0321925 ,\n",
       "        -0.01513988, -0.17006603,  0.23449505,  0.30602386,  0.15108592,\n",
       "         0.47684415,  0.12233288,  0.21712239, -0.10740431, -0.0795536 ,\n",
       "        -0.14885512, -0.02298379,  0.07063919,  0.09113175,  0.13615803,\n",
       "         0.29299208,  0.07717141,  0.02722978, -0.15758098,  0.0035704 ,\n",
       "        -0.04003492, -0.1454667 ,  0.12995527,  0.07635501]),\n",
       " array([1.03954555])]"
      ]
     },
     "execution_count": 58,
     "metadata": {},
     "output_type": "execute_result"
    }
   ],
   "source": [
    "best_ann_model.intercepts_"
   ]
  },
  {
   "cell_type": "code",
   "execution_count": 59,
   "id": "23d2c9c7-accc-419d-bb02-1b2f99665c05",
   "metadata": {},
   "outputs": [
    {
     "data": {
      "image/png": "[encoded data removed]",
      "text/plain": [
       "<Figure size 640x480 with 1 Axes>"
      ]
     },
     "metadata": {},
     "output_type": "display_data"
    }
   ],
   "source": [
    "import statsmodels.api as sm\n",
    "import matplotlib.pyplot as plt\n",
    "residuals = y_test - best_ann_predicted\n",
    "sm.qqplot(residuals, line=\"s\") \n",
    "plt.show()\n",
    "#QQ plot’tan görüldüğü gibi artıkların dağılımı uç tarafta normal dağılıma yakın değildir."
   ]
  },
  {
   "cell_type": "markdown",
   "id": "51d55c5f-3ae1-4c9f-9426-f48cb1abc7bd",
   "metadata": {},
   "source": [
    "##### Model üzerinde farklı teknikler ve dönüşümler polinom vb. kullanarak geliştirilebilir."
   ]
  },
  {
   "cell_type": "code",
   "execution_count": null,
   "id": "29062de0-0550-42c3-9c82-ba958db7488b",
   "metadata": {},
   "outputs": [],
   "source": []
  }
 ],
 "metadata": {
  "kernelspec": {
   "display_name": "Python 3 (ipykernel)",
   "language": "python",
   "name": "python3"
  },
  "language_info": {
   "codemirror_mode": {
    "name": "ipython",
    "version": 3
   },
   "file_extension": ".py",
   "mimetype": "text/x-python",
   "name": "python",
   "nbconvert_exporter": "python",
   "pygments_lexer": "ipython3",
   "version": "3.9.12"
  }
 },
 "nbformat": 4,
 "nbformat_minor": 5
}
